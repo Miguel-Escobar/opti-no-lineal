{
 "cells": [
  {
   "cell_type": "code",
   "execution_count": 26,
   "metadata": {},
   "outputs": [],
   "source": [
    "# !pip install maturin\n",
    "# !maturin develop"
   ]
  },
  {
   "cell_type": "code",
   "execution_count": 27,
   "metadata": {},
   "outputs": [],
   "source": [
    "import numpy as np\n",
    "from fescent import optimize_nesterov, optimize_sgd"
   ]
  },
  {
   "cell_type": "code",
   "execution_count": 28,
   "metadata": {},
   "outputs": [],
   "source": [
    "mu_0 = 1.0\n",
    "beta = 2.0\n",
    "eps = 1e-3\n",
    "x_0 = np.ones(2)*1.0"
   ]
  },
  {
   "cell_type": "code",
   "execution_count": 29,
   "metadata": {},
   "outputs": [
    {
     "name": "stdout",
     "output_type": "stream",
     "text": [
      "[nan nan] nan 1019\n"
     ]
    }
   ],
   "source": [
    "n_iter = 0\n",
    "point = x_0\n",
    "mu = mu_0\n",
    "while True:\n",
    "    point, f_val, test_val = optimize_nesterov(point, mu, 0.0, 0.0, 100, problem=2)\n",
    "    if test_val < eps:\n",
    "        break\n",
    "    mu *= beta\n",
    "    n_iter += 1\n",
    "\n",
    "print(point, f_val - test_val, n_iter)"
   ]
  },
  {
   "cell_type": "code",
   "execution_count": 30,
   "metadata": {},
   "outputs": [],
   "source": [
    "x_0 = np.zeros(1_000, dtype=float)"
   ]
  },
  {
   "cell_type": "code",
   "execution_count": 31,
   "metadata": {},
   "outputs": [
    {
     "name": "stdout",
     "output_type": "stream",
     "text": [
      "0.011352486315256581 0.14172632133585072 0.0 1.0494378886355532e+307 1000\n"
     ]
    }
   ],
   "source": [
    "n_iter = 0\n",
    "point = x_0\n",
    "mu = mu_0\n",
    "alpha = 0.001\n",
    "gamma = 0.9\n",
    "epoch_size = 20\n",
    "n_epoch_per_iter = 5\n",
    "while True:\n",
    "    for _ in range(n_epoch_per_iter):\n",
    "        point, f_val, test_val = optimize_sgd(point, mu, alpha, n_epoch_per_iter)\n",
    "        alpha *= (gamma ** (epoch_size))\n",
    "    if test_val < eps or n_iter >= 1e3:\n",
    "        break\n",
    "    mu *= beta\n",
    "    n_iter += 1\n",
    "print(point.mean(), point.std(), f_val - test_val, test_val, n_iter)"
   ]
  },
  {
   "cell_type": "code",
   "execution_count": null,
   "metadata": {},
   "outputs": [],
   "source": []
  }
 ],
 "metadata": {
  "kernelspec": {
   "display_name": "venv",
   "language": "python",
   "name": "python3"
  },
  "language_info": {
   "codemirror_mode": {
    "name": "ipython",
    "version": 3
   },
   "file_extension": ".py",
   "mimetype": "text/x-python",
   "name": "python",
   "nbconvert_exporter": "python",
   "pygments_lexer": "ipython3",
   "version": "3.12.8"
  }
 },
 "nbformat": 4,
 "nbformat_minor": 2
}
