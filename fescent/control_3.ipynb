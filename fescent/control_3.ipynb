{
 "cells": [
  {
   "cell_type": "code",
   "execution_count": 89,
   "metadata": {},
   "outputs": [],
   "source": [
    "# !pip install maturin\n",
    "# !maturin develop"
   ]
  },
  {
   "cell_type": "code",
   "execution_count": 90,
   "metadata": {},
   "outputs": [],
   "source": [
    "import numpy as np\n",
    "from fescent import optimize_nesterov, optimize_sgd"
   ]
  },
  {
   "cell_type": "code",
   "execution_count": 91,
   "metadata": {},
   "outputs": [],
   "source": [
    "mu_0 = 1.0\n",
    "beta = 2.0\n",
    "eps = 1e-3\n",
    "x_0 = np.zeros(2, dtype=float)"
   ]
  },
  {
   "cell_type": "code",
   "execution_count": 92,
   "metadata": {},
   "outputs": [
    {
     "name": "stdout",
     "output_type": "stream",
     "text": [
      "[-64.47291751 -64.47291751] 8313.51418364489 3\n"
     ]
    }
   ],
   "source": [
    "n_iter = 0\n",
    "point = x_0\n",
    "mu = mu_0\n",
    "while True:\n",
    "    point, f_val, test_val = optimize_nesterov(point, mu, 0.1, 0.1, 100, 1)\n",
    "    if test_val < eps:\n",
    "        break\n",
    "    mu *= beta\n",
    "    n_iter += 1\n",
    "\n",
    "print(point, f_val - test_val, n_iter)"
   ]
  },
  {
   "cell_type": "code",
   "execution_count": 93,
   "metadata": {},
   "outputs": [],
   "source": [
    "x_0 = np.random.rand(1000)"
   ]
  },
  {
   "cell_type": "code",
   "execution_count": 182,
   "metadata": {},
   "outputs": [
    {
     "name": "stdout",
     "output_type": "stream",
     "text": [
      "1.0009999907996798 207336.23063135197 21\n"
     ]
    }
   ],
   "source": [
    "n_iter = 0\n",
    "point = x_0\n",
    "mu = mu_0\n",
    "while True:\n",
    "    point, f_val, test_val = optimize_sgd(point, mu, 1e-4/((n_iter + 1)*100), 100)\n",
    "    if test_val < eps or n_iter >= 1e3:\n",
    "        break\n",
    "    mu *= beta\n",
    "    n_iter += 1\n",
    "\n",
    "print(point.mean(),f_val - test_val, n_iter)"
   ]
  }
 ],
 "metadata": {
  "kernelspec": {
   "display_name": "venv",
   "language": "python",
   "name": "python3"
  },
  "language_info": {
   "codemirror_mode": {
    "name": "ipython",
    "version": 3
   },
   "file_extension": ".py",
   "mimetype": "text/x-python",
   "name": "python",
   "nbconvert_exporter": "python",
   "pygments_lexer": "ipython3",
   "version": "3.12.8"
  }
 },
 "nbformat": 4,
 "nbformat_minor": 2
}
